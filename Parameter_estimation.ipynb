{
  "nbformat": 4,
  "nbformat_minor": 0,
  "metadata": {
    "colab": {
      "provenance": [],
      "authorship_tag": "ABX9TyO7QTVeajVYBrAL2nVtcDmM",
      "include_colab_link": true
    },
    "kernelspec": {
      "name": "python3",
      "display_name": "Python 3"
    },
    "language_info": {
      "name": "python"
    }
  },
  "cells": [
    {
      "cell_type": "markdown",
      "metadata": {
        "id": "view-in-github",
        "colab_type": "text"
      },
      "source": [
        "<a href=\"https://colab.research.google.com/github/tasmimjoti/Deep-Learning-with-PyTorch/blob/main/Parameter_estimation.ipynb\" target=\"_parent\"><img src=\"https://colab.research.google.com/assets/colab-badge.svg\" alt=\"Open In Colab\"/></a>"
      ]
    },
    {
      "cell_type": "code",
      "execution_count": null,
      "metadata": {
        "id": "Gr6WhODFIdXr"
      },
      "outputs": [],
      "source": [
        "import torch\n",
        "import numpy as np\n",
        "torch.set_printoptions(edgeitems = 2, linewidth = 75)"
      ]
    },
    {
      "cell_type": "code",
      "source": [
        "t_c = [0.5,  14.0, 15.0, 28.0, 11.0,  8.0,  3.0, -4.0,  6.0, 13.0, 21.0]\n",
        "t_u = [35.7, 55.9, 58.2, 81.9, 56.3, 48.9, 33.9, 21.8, 48.4, 60.4, 68.4]\n",
        "t_c = torch.tensor(t_c)\n",
        "t_u = torch.tensor(t_u)"
      ],
      "metadata": {
        "id": "DC6IuvlkJdv-"
      },
      "execution_count": null,
      "outputs": []
    },
    {
      "cell_type": "code",
      "source": [
        "def model(t_u, w, b):\n",
        "    return w * t_u + b"
      ],
      "metadata": {
        "id": "S_Wv-i4yJnU8"
      },
      "execution_count": null,
      "outputs": []
    },
    {
      "cell_type": "code",
      "source": [
        "def loss_fn(t_p, t_c):\n",
        "    squared_diffs = (t_p - t_c)**2\n",
        "    return squared_diffs.mean()"
      ],
      "metadata": {
        "id": "S7muf60tJqh8"
      },
      "execution_count": null,
      "outputs": []
    },
    {
      "cell_type": "code",
      "source": [
        "w = torch.ones(())\n",
        "b = torch.zeros(())"
      ],
      "metadata": {
        "id": "jD_Imv2dKLts"
      },
      "execution_count": null,
      "outputs": []
    },
    {
      "cell_type": "code",
      "source": [
        "t_p = model(t_u, w, b)\n",
        "t_p"
      ],
      "metadata": {
        "colab": {
          "base_uri": "https://localhost:8080/"
        },
        "id": "pasp-h76KR1O",
        "outputId": "c1ab4cd8-5281-413f-cc77-528631b7b00c"
      },
      "execution_count": null,
      "outputs": [
        {
          "output_type": "execute_result",
          "data": {
            "text/plain": [
              "tensor([35.7000, 55.9000, 58.2000, 81.9000, 56.3000, 48.9000, 33.9000,\n",
              "        21.8000, 48.4000, 60.4000, 68.4000])"
            ]
          },
          "metadata": {},
          "execution_count": 6
        }
      ]
    },
    {
      "cell_type": "code",
      "source": [
        "loss = loss_fn(t_p, t_c)\n",
        "loss"
      ],
      "metadata": {
        "colab": {
          "base_uri": "https://localhost:8080/"
        },
        "id": "ywUSvLC8KcCX",
        "outputId": "e586aa40-b170-4785-fde3-60d984bde734"
      },
      "execution_count": null,
      "outputs": [
        {
          "output_type": "execute_result",
          "data": {
            "text/plain": [
              "tensor(1763.8848)"
            ]
          },
          "metadata": {},
          "execution_count": 7
        }
      ]
    },
    {
      "cell_type": "code",
      "source": [
        "x = torch.ones(())\n",
        "y = torch.ones(3,1)\n",
        "z = torch.ones(1,3)\n",
        "a = torch.ones(2, 1, 1)"
      ],
      "metadata": {
        "id": "-i-i7zj-Ls03"
      },
      "execution_count": null,
      "outputs": []
    },
    {
      "cell_type": "code",
      "source": [
        "print(\"Shapes:\")\n",
        "print(f\"x: {x.shape} \\ny: {y.shape}\")\n",
        "print(f\"z: {z.shape} \\na: {a.shape}\")\n",
        "print(f\"x * y: {(x * y).shape} \\ny * z: {(y * z).shape} \\ny * z * a: {(y * z * a).shape}\")"
      ],
      "metadata": {
        "colab": {
          "base_uri": "https://localhost:8080/"
        },
        "id": "R6C71DutMfCH",
        "outputId": "17f300b6-8020-4ee7-97d2-ef44f4315c47"
      },
      "execution_count": null,
      "outputs": [
        {
          "output_type": "stream",
          "name": "stdout",
          "text": [
            "Shapes:\n",
            "x: torch.Size([]) \n",
            "y: torch.Size([3, 1])\n",
            "z: torch.Size([1, 3]) \n",
            "a: torch.Size([2, 1, 1])\n",
            "x * y: torch.Size([3, 1]) \n",
            "y * z: torch.Size([3, 3]) \n",
            "y * z * a: torch.Size([2, 3, 3])\n"
          ]
        }
      ]
    },
    {
      "cell_type": "code",
      "source": [
        "delta = 0.1\n",
        "loss_rate_of_change_w = (loss_fn(model(t_u, w + delta, b), t_c) - loss_fn(model(t_u, w - delta, b), t_c)) / (2.0 * delta)"
      ],
      "metadata": {
        "id": "Kt4XFEGSv5fF"
      },
      "execution_count": null,
      "outputs": []
    },
    {
      "cell_type": "code",
      "source": [
        "learning_rate = 1e-2\n",
        "w = w - learning_rate * loss_rate_of_change_w"
      ],
      "metadata": {
        "id": "pSwilsjmHRqD"
      },
      "execution_count": null,
      "outputs": []
    },
    {
      "cell_type": "code",
      "source": [
        "loss_rate_of_change_b = (loss_fn(model(t_u, w, b + delta), t_c) - loss_fn(model(t_u, w, b - delta), t_c)) / (2.0 * delta)\n",
        "b = b - learning_rate * loss_rate_of_change_b"
      ],
      "metadata": {
        "id": "-DKy4xsTIv0M"
      },
      "execution_count": null,
      "outputs": []
    },
    {
      "cell_type": "code",
      "source": [
        "def dloss_fn(t_p, t_c):\n",
        "    dsq_diffs = 2 * (t_p - t_c) / t_p.size(0)\n",
        "    return dsq_diffs"
      ],
      "metadata": {
        "id": "T-FVlTs6Msi2"
      },
      "execution_count": null,
      "outputs": []
    },
    {
      "cell_type": "code",
      "source": [
        "def dmodel_dw(t_u, w, b):\n",
        "    return t_u"
      ],
      "metadata": {
        "id": "HYJZo5OeN2SA"
      },
      "execution_count": null,
      "outputs": []
    },
    {
      "cell_type": "code",
      "source": [
        "def dmodel_db(t_u, w, b):\n",
        "    return 1.0"
      ],
      "metadata": {
        "id": "Apx74NRNPK19"
      },
      "execution_count": null,
      "outputs": []
    },
    {
      "cell_type": "code",
      "source": [
        "def grad_fn(t_u, t_c, t_p, w, b):\n",
        "    dloss_dtp = dloss_fn(t_p, t_c)\n",
        "    dloss_dw = dloss_dtp * dmodel_dw(t_u, w, b)\n",
        "    dloss_db = dloss_dtp * dmodel_db(t_u, w, b)\n",
        "    return torch.stack([dloss_dw.sum(), dloss_db.sum()])"
      ],
      "metadata": {
        "id": "7g5_wUx4RD_q"
      },
      "execution_count": null,
      "outputs": []
    },
    {
      "cell_type": "code",
      "source": [
        "def training_loop(n_epochs, learning_rate, params, t_u, t_c):\n",
        "    for epoch in range(1, n_epochs + 1):\n",
        "        w, b = params\n",
        "\n",
        "        t_p = model(t_u, w, b)\n",
        "        loss = loss_fn(t_p, t_c)\n",
        "        grad = grad_fn(t_u, t_c, t_p, w, b)\n",
        "\n",
        "        params = params - learning_rate * grad\n",
        "\n",
        "        print('Epoch %d, Loss %f' % (epoch, float(loss)))\n",
        "\n",
        "    return params"
      ],
      "metadata": {
        "id": "KVWJLlLWRK6E"
      },
      "execution_count": null,
      "outputs": []
    },
    {
      "cell_type": "code",
      "source": [
        "def training_loop(n_epochs, learning_rate, params, t_u, t_c, print_params=True):\n",
        "    for epoch in range(1, n_epochs + 1):\n",
        "        w, b = params\n",
        "\n",
        "        t_p = model(t_u, w, b)\n",
        "        loss = loss_fn(t_p, t_c)\n",
        "        grad = grad_fn(t_u, t_c, t_p, w, b)\n",
        "\n",
        "        params = params - learning_rate * grad\n",
        "\n",
        "        if epoch in {1, 2, 3, 10, 11, 99, 100, 4000, 5000}:\n",
        "            print('Epoch %d, Loss %f' % (epoch, float(loss)))\n",
        "            if print_params:\n",
        "                print('    Params:', params)\n",
        "                print('    Grad:  ', grad)\n",
        "        if epoch in {4, 12, 101}:\n",
        "            print('...')\n",
        "\n",
        "        if not torch.isfinite(loss).all():\n",
        "            break\n",
        "\n",
        "    return params"
      ],
      "metadata": {
        "id": "SeYhiIFfRr22"
      },
      "execution_count": null,
      "outputs": []
    },
    {
      "cell_type": "code",
      "source": [
        "training_loop(\n",
        "    n_epochs = 100,\n",
        "    learning_rate = 1e-2,\n",
        "    params = torch.tensor([1.0, 0.0]),\n",
        "    t_u = t_u,\n",
        "    t_c = t_c)"
      ],
      "metadata": {
        "colab": {
          "base_uri": "https://localhost:8080/"
        },
        "id": "bqsDzB1JTLWb",
        "outputId": "8237ac06-e393-4be4-9b3a-e278b3b36861"
      },
      "execution_count": null,
      "outputs": [
        {
          "output_type": "stream",
          "name": "stdout",
          "text": [
            "Epoch 1, Loss 1763.884766\n",
            "    Params: tensor([-44.1730,  -0.8260])\n",
            "    Grad:   tensor([4517.2964,   82.6000])\n",
            "Epoch 2, Loss 5802484.500000\n",
            "    Params: tensor([2568.4011,   45.1637])\n",
            "    Grad:   tensor([-261257.4062,   -4598.9702])\n",
            "Epoch 3, Loss 19408029696.000000\n",
            "    Params: tensor([-148527.7344,   -2616.3931])\n",
            "    Grad:   tensor([15109614.0000,   266155.6875])\n",
            "...\n",
            "Epoch 10, Loss 90901105189019073810297959556841472.000000\n",
            "    Params: tensor([3.2144e+17, 5.6621e+15])\n",
            "    Grad:   tensor([-3.2700e+19, -5.7600e+17])\n",
            "Epoch 11, Loss inf\n",
            "    Params: tensor([-1.8590e+19, -3.2746e+17])\n",
            "    Grad:   tensor([1.8912e+21, 3.3313e+19])\n"
          ]
        },
        {
          "output_type": "execute_result",
          "data": {
            "text/plain": [
              "tensor([-1.8590e+19, -3.2746e+17])"
            ]
          },
          "metadata": {},
          "execution_count": 19
        }
      ]
    },
    {
      "cell_type": "code",
      "source": [
        "training_loop(\n",
        "    n_epochs = 100,\n",
        "    learning_rate = 1e-4,\n",
        "    params = torch.tensor([1.0, 0.0]),\n",
        "    t_u = t_u,\n",
        "    t_c = t_c)"
      ],
      "metadata": {
        "colab": {
          "base_uri": "https://localhost:8080/"
        },
        "id": "I3cEFJrBVkq3",
        "outputId": "5a395762-b44b-4f69-99dc-74f348fc2c57"
      },
      "execution_count": null,
      "outputs": [
        {
          "output_type": "stream",
          "name": "stdout",
          "text": [
            "Epoch 1, Loss 1763.884766\n",
            "    Params: tensor([ 0.5483, -0.0083])\n",
            "    Grad:   tensor([4517.2964,   82.6000])\n",
            "Epoch 2, Loss 323.090515\n",
            "    Params: tensor([ 0.3623, -0.0118])\n",
            "    Grad:   tensor([1859.5493,   35.7843])\n",
            "Epoch 3, Loss 78.929634\n",
            "    Params: tensor([ 0.2858, -0.0135])\n",
            "    Grad:   tensor([765.4666,  16.5122])\n",
            "...\n",
            "Epoch 10, Loss 29.105247\n",
            "    Params: tensor([ 0.2324, -0.0166])\n",
            "    Grad:   tensor([1.4803, 3.0544])\n",
            "Epoch 11, Loss 29.104168\n",
            "    Params: tensor([ 0.2323, -0.0169])\n",
            "    Grad:   tensor([0.5781, 3.0384])\n",
            "...\n",
            "Epoch 99, Loss 29.023582\n",
            "    Params: tensor([ 0.2327, -0.0435])\n",
            "    Grad:   tensor([-0.0533,  3.0226])\n",
            "Epoch 100, Loss 29.022667\n",
            "    Params: tensor([ 0.2327, -0.0438])\n",
            "    Grad:   tensor([-0.0532,  3.0226])\n"
          ]
        },
        {
          "output_type": "execute_result",
          "data": {
            "text/plain": [
              "tensor([ 0.2327, -0.0438])"
            ]
          },
          "metadata": {},
          "execution_count": 20
        }
      ]
    },
    {
      "cell_type": "code",
      "source": [
        "t_un = 0.1 * t_u"
      ],
      "metadata": {
        "id": "8rT5--9LWC9T"
      },
      "execution_count": null,
      "outputs": []
    },
    {
      "cell_type": "code",
      "source": [
        "training_loop(\n",
        "    n_epochs = 100,\n",
        "    learning_rate = 1e-2,\n",
        "    params = torch.tensor([1.0, 0.0]),\n",
        "    t_u = t_un,\n",
        "    t_c = t_c)"
      ],
      "metadata": {
        "colab": {
          "base_uri": "https://localhost:8080/"
        },
        "id": "p9ASGv_BWHm1",
        "outputId": "f21d8000-4263-45f4-85b9-a07c1232e31f"
      },
      "execution_count": null,
      "outputs": [
        {
          "output_type": "stream",
          "name": "stdout",
          "text": [
            "Epoch 1, Loss 80.364342\n",
            "    Params: tensor([1.7761, 0.1064])\n",
            "    Grad:   tensor([-77.6140, -10.6400])\n",
            "Epoch 2, Loss 37.574913\n",
            "    Params: tensor([2.0848, 0.1303])\n",
            "    Grad:   tensor([-30.8623,  -2.3864])\n",
            "Epoch 3, Loss 30.871077\n",
            "    Params: tensor([2.2094, 0.1217])\n",
            "    Grad:   tensor([-12.4631,   0.8587])\n",
            "...\n",
            "Epoch 10, Loss 29.030489\n",
            "    Params: tensor([ 2.3232, -0.0710])\n",
            "    Grad:   tensor([-0.5355,  2.9295])\n",
            "Epoch 11, Loss 28.941877\n",
            "    Params: tensor([ 2.3284, -0.1003])\n",
            "    Grad:   tensor([-0.5240,  2.9264])\n",
            "...\n",
            "Epoch 99, Loss 22.214186\n",
            "    Params: tensor([ 2.7508, -2.4910])\n",
            "    Grad:   tensor([-0.4453,  2.5208])\n",
            "Epoch 100, Loss 22.148710\n",
            "    Params: tensor([ 2.7553, -2.5162])\n",
            "    Grad:   tensor([-0.4446,  2.5165])\n"
          ]
        },
        {
          "output_type": "execute_result",
          "data": {
            "text/plain": [
              "tensor([ 2.7553, -2.5162])"
            ]
          },
          "metadata": {},
          "execution_count": 22
        }
      ]
    },
    {
      "cell_type": "code",
      "source": [
        "params = training_loop(\n",
        "    n_epochs = 5000,\n",
        "    learning_rate = 1e-2,\n",
        "    params = torch.tensor([1.0, 0.0]),\n",
        "    t_u = t_un,\n",
        "    t_c = t_c,\n",
        "    print_params = False)\n",
        "\n",
        "params"
      ],
      "metadata": {
        "colab": {
          "base_uri": "https://localhost:8080/"
        },
        "id": "ZxD7ggpQWN4Z",
        "outputId": "c73a71d0-2e9d-4600-e9df-60a41ecb793e"
      },
      "execution_count": null,
      "outputs": [
        {
          "output_type": "stream",
          "name": "stdout",
          "text": [
            "Epoch 1, Loss 80.364342\n",
            "Epoch 2, Loss 37.574913\n",
            "Epoch 3, Loss 30.871077\n",
            "...\n",
            "Epoch 10, Loss 29.030489\n",
            "Epoch 11, Loss 28.941877\n",
            "...\n",
            "Epoch 99, Loss 22.214186\n",
            "Epoch 100, Loss 22.148710\n",
            "...\n",
            "Epoch 4000, Loss 2.927680\n",
            "Epoch 5000, Loss 2.927648\n"
          ]
        },
        {
          "output_type": "execute_result",
          "data": {
            "text/plain": [
              "tensor([  5.3671, -17.3012])"
            ]
          },
          "metadata": {},
          "execution_count": 23
        }
      ]
    },
    {
      "cell_type": "code",
      "source": [
        "from matplotlib import pyplot as plt\n",
        "\n",
        "t_p = model(t_un, *params)\n",
        "\n",
        "plt.xlabel(\"Temperature (°Fahrenheit)\")\n",
        "plt.ylabel(\"Temperature (°Celsius)\")\n",
        "plt.plot(t_u.numpy(), t_p.detach().numpy())\n",
        "plt.plot(t_u.numpy(), t_c.numpy(), 'o')\n",
        "plt.savefig(\"temp_unknown_plot.png\", format=\"png\", dpi = 700)"
      ],
      "metadata": {
        "colab": {
          "base_uri": "https://localhost:8080/",
          "height": 279
        },
        "id": "c2dKq589WYK5",
        "outputId": "996e9165-c358-4567-b63b-c89e534d22a8"
      },
      "execution_count": null,
      "outputs": [
        {
          "output_type": "display_data",
          "data": {
            "text/plain": [
              "<Figure size 432x288 with 1 Axes>"
            ],
            "image/png": "[encoded data removed]"
          },
          "metadata": {
            "needs_background": "light"
          }
        }
      ]
    },
    {
      "cell_type": "code",
      "source": [
        "plt.xlabel(\"Measurement\")\n",
        "plt.ylabel(\"Temperature (°Celsius)\")\n",
        "plt.plot(t_u.numpy(), t_c.numpy(), 'o')\n",
        "plt.savefig(\"temp_data_plot.png\", format=\"png\", dpi = 700)"
      ],
      "metadata": {
        "colab": {
          "base_uri": "https://localhost:8080/",
          "height": 279
        },
        "id": "mHCg-mRDWnly",
        "outputId": "e2f94389-f6b7-4343-fa9e-ecfc33acf225"
      },
      "execution_count": null,
      "outputs": [
        {
          "output_type": "display_data",
          "data": {
            "text/plain": [
              "<Figure size 432x288 with 1 Axes>"
            ],
            "image/png": "[encoded data removed]"
          },
          "metadata": {
            "needs_background": "light"
          }
        }
      ]
    }
  ]
}